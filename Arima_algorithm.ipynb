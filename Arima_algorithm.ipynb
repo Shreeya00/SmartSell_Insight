{
 "cells": [
  {
   "cell_type": "code",
   "execution_count": 19,
   "id": "c561439c-a254-41e2-a3bd-e17e2831753e",
   "metadata": {},
   "outputs": [],
   "source": [
    "import pandas as pd\n",
    "from statsmodels.tsa.arima.model import ARIMA\n",
    "import warnings\n",
    "warnings.filterwarnings(\"ignore\")\n"
   ]
  },
  {
   "cell_type": "code",
   "execution_count": 22,
   "id": "ce9f1c43-36a5-4a46-9d03-1f24f18c8781",
   "metadata": {},
   "outputs": [],
   "source": [
    "# Load the dataset\n",
    "df = pd.read_csv(\"C:/Users/Sarika Kene/Desktop/Self note course/retail_store_inventory.csv\")\n",
    "\n",
    "# Convert Date column to datetime\n",
    "df['Date'] = pd.to_datetime(df['Date'])\n",
    "\n",
    "# Create a YearMonth column for monthly grouping\n",
    "df['YearMonth'] = df['Date'].dt.to_period('M').astype(str)\n",
    "\n",
    "# Group by YearMonth and Category to get total Units Sold\n",
    "monthly_sales = df.groupby(['YearMonth', 'Category'])['Units Sold'].sum().reset_index()\n",
    "# Prepare to store forecasts\n",
    "forecast_list = []\n",
    "error_categories = []\n"
   ]
  },
  {
   "cell_type": "code",
   "execution_count": 23,
   "id": "95204e3d-6c5d-43f6-b863-b8140e15dc08",
   "metadata": {},
   "outputs": [],
   "source": [
    "# Prepare to store forecasts\n",
    "forecast_list = []\n",
    "error_categories = []\n"
   ]
  },
  {
   "cell_type": "code",
   "execution_count": 24,
   "id": "cd78f4fb-65be-4a09-9b0e-585467005dc2",
   "metadata": {},
   "outputs": [],
   "source": [
    "# Forecast for each category\n",
    "for cat in monthly_sales['Category'].unique():\n",
    "    cat_df = monthly_sales[monthly_sales['Category'] == cat]\n",
    "\n",
    "    # Convert YearMonth to datetime index for ARIMA\n",
    "    cat_df = cat_df.set_index(pd.to_datetime(cat_df['YearMonth']))\n",
    "\n",
    "    # Only forecast if there's at least 12 months of data\n",
    "    if len(cat_df) >= 12:\n",
    "        try:\n",
    "            model = ARIMA(cat_df['Units Sold'], order=(1, 1, 1))\n",
    "            model_fit = model.fit()\n",
    "\n",
    "            # Forecast next 6 months\n",
    "            forecast = model_fit.forecast(steps=6)\n",
    "\n",
    "            # Create forecast DataFrame\n",
    "            forecast_df = pd.DataFrame({\n",
    "                'YearMonth': pd.date_range(\n",
    "                    start=cat_df.index[-1] + pd.DateOffset(months=1),\n",
    "                    periods=6,\n",
    "                    freq='M'\n",
    "                ).to_period('M').astype(str),\n",
    "                'Predicted Sales': forecast,\n",
    "                'Category': cat\n",
    "            })\n",
    "\n",
    "            forecast_list.append(forecast_df)\n",
    "\n",
    "        except Exception as e:\n",
    "            error_categories.append((cat, str(e)))\n",
    "            continue\n"
   ]
  },
  {
   "cell_type": "code",
   "execution_count": 28,
   "id": "8578d9c9-fac2-414f-a54b-4574468b2234",
   "metadata": {},
   "outputs": [
    {
     "name": "stdout",
     "output_type": "stream",
     "text": [
      "✅ Forecast file saved: category_sales_forecast.xlsx\n"
     ]
    }
   ],
   "source": [
    "# Combine all forecasted data\n",
    "if forecast_list:\n",
    "    forecast_all = pd.concat(forecast_list, ignore_index=True)\n",
    "    forecast_all.to_excel(\"category_sales_forecast2.xlsx\", index=False)\n",
    "    print(\"✅ Forecast file saved: category_sales_forecast.xlsx\")\n",
    "else:\n",
    "    print(\"❌ No forecasts generated.\")\n"
   ]
  },
  {
   "cell_type": "code",
   "execution_count": 29,
   "id": "3f23d313-5a06-4402-966e-2b0fb8753b1c",
   "metadata": {},
   "outputs": [],
   "source": [
    "# Print categories that failed to forecast\n",
    "if error_categories:\n",
    "    print(\"\\n⚠️ Forecasting failed for the following categories:\")\n",
    "    for cat, err in error_categories:\n",
    "        print(f\"{cat}: {err}\")\n"
   ]
  },
  {
   "cell_type": "code",
   "execution_count": 30,
   "id": "ad3c8ed5-bbb0-4f56-b4f1-4ca8f09bf195",
   "metadata": {},
   "outputs": [
    {
     "name": "stdout",
     "output_type": "stream",
     "text": [
      "File saved at: C:\\Users\\Sarika Kene\\category_sales_forecast2.xlsx\n"
     ]
    }
   ],
   "source": [
    "import os\n",
    "print(\"File saved at:\", os.path.abspath(\"category_sales_forecast2.xlsx\"))"
   ]
  },
  {
   "cell_type": "code",
   "execution_count": null,
   "id": "16c2062f-6847-4bdc-b0f0-25eaa9616b5d",
   "metadata": {},
   "outputs": [],
   "source": []
  }
 ],
 "metadata": {
  "kernelspec": {
   "display_name": "Python [conda env:base] *",
   "language": "python",
   "name": "conda-base-py"
  },
  "language_info": {
   "codemirror_mode": {
    "name": "ipython",
    "version": 3
   },
   "file_extension": ".py",
   "mimetype": "text/x-python",
   "name": "python",
   "nbconvert_exporter": "python",
   "pygments_lexer": "ipython3",
   "version": "3.12.3"
  }
 },
 "nbformat": 4,
 "nbformat_minor": 5
}
